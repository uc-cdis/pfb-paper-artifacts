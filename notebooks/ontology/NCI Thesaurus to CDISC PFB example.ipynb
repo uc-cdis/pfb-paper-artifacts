{
 "cells": [
  {
   "cell_type": "code",
   "execution_count": 1,
   "metadata": {},
   "outputs": [],
   "source": [
    "from pfb.reader import PFBReader\n",
    "from pfb.writer import PFBWriter\n",
    "from pfb.base import PFBBase\n",
    "import pfb.importers.gen3dict as gen3dict\n",
    "import pfb.importers.json as pfbJSON\n",
    "\n",
    "from dictionaryutils import DataDictionary, dictionary\n",
    "import json\n",
    "\n",
    "import requests"
   ]
  },
  {
   "cell_type": "markdown",
   "metadata": {},
   "source": [
    "## Example of an ontology reference in a dictionary"
   ]
  },
  {
   "cell_type": "code",
   "execution_count": 2,
   "metadata": {},
   "outputs": [
    {
     "name": "stdout",
     "output_type": "stream",
     "text": [
      "{\"description\": \"Text term that represents the name of the primary disease site of the submitted tumor sample.\\n\", \"termDef\": {\"term\": \"Submitted Tumor Sample Primary Anatomic Site\", \"source\": \"caDSR\", \"cde_id\": 4742851, \"cde_version\": 1.0, \"term_url\": \"https://cdebrowser.nci.nih.gov/CDEBrowser/search?elementDetails=9&FirstTimer=0&PageId=ElementDetailsGroup&publicId=4742851&version=1.0\"}}\n"
     ]
    }
   ],
   "source": [
    "r = requests.get(\"https://s3.amazonaws.com/dictionary-artifacts/gtexdictionary/4.4.0/schema.json\")\n",
    "j = r.json()\n",
    "\n",
    "print(json.dumps(j[\"_terms.yaml\"][\"biospecimen_anatomic_site\"]))"
   ]
  },
  {
   "cell_type": "markdown",
   "metadata": {},
   "source": [
    "## We now create a PFB file using the same dictionary as above\n",
    "One could create a PFB using the pypfb sdk and running `pfb from -o test_schema.avro dict URL` instead"
   ]
  },
  {
   "cell_type": "code",
   "execution_count": 3,
   "metadata": {},
   "outputs": [],
   "source": [
    "w = PFBWriter(file_or_path=\"test_schema.avro\")\n",
    "w.__enter__()\n",
    "\n",
    "d = DataDictionary(url = \"https://s3.amazonaws.com/dictionary-artifacts/gtexdictionary/4.4.0/schema.json\")\n",
    "dictionary.init(d)\n",
    "\n",
    "records, ontology_references, links = gen3dict._parse_dictionary(d)\n",
    "\n",
    "metadata = gen3dict._get_ontology_references(ontology_references, links)\n",
    "\n",
    "w.set_schema(records)\n",
    "w.set_metadata(metadata)\n",
    "w.write()"
   ]
  },
  {
   "cell_type": "code",
   "execution_count": 4,
   "metadata": {},
   "outputs": [
    {
     "name": "stdout",
     "output_type": "stream",
     "text": [
      "Dictionary Definiton:  biospecimen_anatomic_site\n",
      "Ontology Reference:  Submitted Tumor Sample Primary Anatomic Site\n",
      "Term URL:  https://cdebrowser.nci.nih.gov/CDEBrowser/search?elementDetails=9&FirstTimer=0&PageId=ElementDetailsGroup&publicId=4742851&version=1.0\n",
      "CDE ID:  4742851\n",
      "Dictionary Definiton:  composition\n",
      "Ontology Reference:  Biospecimen Cellular Composition Type\n",
      "Term URL:  https://cdebrowser.nci.nih.gov/CDEBrowser/search?elementDetails=9&FirstTimer=0&PageId=ElementDetailsGroup&publicId=5432591&version=1.0\n",
      "CDE ID:  5432591\n",
      "Dictionary Definiton:  current_weight\n",
      "Ontology Reference:  Tissue Sample Current Weight Milligram Value\n",
      "Term URL:  https://cdebrowser.nci.nih.gov/CDEBrowser/search?elementDetails=9&FirstTimer=0&PageId=ElementDetailsGroup&publicId=5432606&version=1.0\n",
      "CDE ID:  5432606\n",
      "Dictionary Definiton:  freezing_method\n",
      "Ontology Reference:  Tissue Sample Freezing Method Type\n",
      "Term URL:  https://cdebrowser.nci.nih.gov/CDEBrowser/search?elementDetails=9&FirstTimer=0&PageId=ElementDetailsGroup&publicId=5432607&version=1.0\n",
      "CDE ID:  5432607\n",
      "Dictionary Definiton:  is_ffpe\n",
      "Ontology Reference:  Specimen Processing Formalin Fixed Paraffin Embedded Tissue Indicator\n",
      "Term URL:  https://cdebrowser.nci.nih.gov/CDEBrowser/search?elementDetails=9&FirstTimer=0&PageId=ElementDetailsGroup&publicId=4170557&version=1.0\n",
      "CDE ID:  4170557\n",
      "Dictionary Definiton:  oct_embedded\n",
      "Ontology Reference:  Tissue Sample Optimal Cutting Temperature Compound Embedding Indicator\n",
      "Term URL:  https://cdebrowser.nci.nih.gov/CDEBrowser/search?elementDetails=9&FirstTimer=0&PageId=ElementDetailsGroup&publicId=5432538&version=1.0\n",
      "CDE ID:  5432538\n",
      "Dictionary Definiton:  preservation_method\n",
      "Ontology Reference:  Tissue Sample Preservation Method Type\n",
      "Term URL:  https://cdebrowser.nci.nih.gov/CDEBrowser/search?elementDetails=9&FirstTimer=0&PageId=ElementDetailsGroup&publicId=5432521&version=1.0\n",
      "CDE ID:  5432521\n",
      "Dictionary Definiton:  tissue_type\n",
      "Ontology Reference:  Tissue Sample Description Type\n",
      "Term URL:  https://cdebrowser.nci.nih.gov/CDEBrowser/search?elementDetails=9&FirstTimer=0&PageId=ElementDetailsGroup&publicId=5432687&version=1.0\n",
      "CDE ID:  5432687\n",
      "Dictionary Definiton:  RIN\n",
      "Ontology Reference:  Biospecimen RNA Integrity Number Value\n",
      "Term URL:  https://cdebrowser.nci.nih.gov/CDEBrowser/search?elementDetails=9&FirstTimer=0&PageId=ElementDetailsGroup&publicId=5278775&version=1.0\n",
      "CDE ID:  5278775\n",
      "Dictionary Definiton:  analyte_type\n",
      "Ontology Reference:  Molecular Specimen Type Text Name\n",
      "Term URL:  https://cdebrowser.nci.nih.gov/CDEBrowser/search?elementDetails=9&FirstTimer=0&PageId=ElementDetailsGroup&publicId=2513915&version=2.0\n",
      "CDE ID:  2513915\n",
      "Dictionary Definiton:  concentration\n",
      "Ontology Reference:  Biospecimen Analyte or Aliquot Extracted Concentration Milligram per Milliliter Value\n",
      "Term URL:  https://cdebrowser.nci.nih.gov/CDEBrowser/search?elementDetails=9&FirstTimer=0&PageId=ElementDetailsGroup&publicId=5432594&version=1.0\n",
      "CDE ID:  5432594\n",
      "Dictionary Definiton:  years_smoked\n",
      "Ontology Reference:  Person Smoking Duration Year Count\n",
      "Term URL:  https://cdebrowser.nci.nih.gov/CDEBrowser/search?elementDetails=9&FirstTimer=0&PageId=ElementDetailsGroup&publicId=3137957&version=1.0\n",
      "CDE ID:  3137957\n",
      "Dictionary Definiton:  years_smoked_gt89\n",
      "Ontology Reference:  Person Smoking Duration Year Count\n",
      "Term URL:  https://cdebrowser.nci.nih.gov/CDEBrowser/search?elementDetails=9&FirstTimer=0&PageId=ElementDetailsGroup&publicId=3137957&version=1.0\n",
      "CDE ID:  3137957\n",
      "Dictionary Definiton:  annotated_sex\n",
      "Ontology Reference:  Person Gender Text Type\n",
      "Term URL:  https://cdebrowser.nci.nih.gov/CDEBrowser/search?elementDetails=9&FirstTimer=0&PageId=ElementDetailsGroup&publicId=2200604&version=3.0\n",
      "CDE ID:  2200604\n",
      "Dictionary Definiton:  race\n",
      "Ontology Reference:  Race Category Text\n",
      "Term URL:  https://cdebrowser.nci.nih.gov/CDEBrowser/search?elementDetails=9&FirstTimer=0&PageId=ElementDetailsGroup&publicId=2192199&version=1.0\n",
      "CDE ID:  2192199\n",
      "Dictionary Definiton:  ethnicity\n",
      "Ontology Reference:  Ethnic Group Category Text\n",
      "Term URL:  https://cdebrowser.nci.nih.gov/CDEBrowser/search?elementDetails=9&FirstTimer=0&PageId=ElementDetailsGroup&publicId=2192217&version=2.0\n",
      "CDE ID:  2192217\n",
      "Dictionary Definiton:  weight\n",
      "Ontology Reference:  Patient Weight Measurement\n",
      "Term URL:  https://cdebrowser.nci.nih.gov/CDEBrowser/search?elementDetails=9&FirstTimer=0&PageId=ElementDetailsGroup&publicId=651&version=4.0\n",
      "CDE ID:  651\n",
      "Dictionary Definiton:  bmi_baseline\n",
      "Ontology Reference:  Body Mass Index (BMI)\n",
      "Term URL:  https://cdebrowser.nci.nih.gov/CDEBrowser/search?elementDetails=9&FirstTimer=0&PageId=ElementDetailsGroup&publicId=4973892&version=1.0\n",
      "CDE ID:  4973892\n",
      "Dictionary Definiton:  height_baseline\n",
      "Ontology Reference:  Patient Height Measurement\n",
      "Term URL:  https://cdebrowser.nci.nih.gov/CDEBrowser/search?elementDetails=9&FirstTimer=0&PageId=ElementDetailsGroup&publicId=649&version=4.1\n",
      "CDE ID:  649\n"
     ]
    }
   ],
   "source": [
    "for node in metadata[\"nodes\"]:\n",
    "    for prop in node[\"properties\"]:\n",
    "        if prop[\"ontology_reference\"] != \"\" and \"term_url\" in prop[\"values\"]:\n",
    "            print(\"Dictionary Definiton: \", prop[\"name\"])\n",
    "            print(\"Ontology Reference: \", prop[\"ontology_reference\"])\n",
    "            print(\"Term URL: \", prop[\"values\"][\"term_url\"])\n",
    "            print(\"CDE ID: \",  prop[\"values\"][\"cde_id\"])"
   ]
  },
  {
   "cell_type": "markdown",
   "metadata": {},
   "source": [
    "## Now we can read the data from the PFB that we just created and look at the metadata"
   ]
  },
  {
   "cell_type": "code",
   "execution_count": 5,
   "metadata": {},
   "outputs": [],
   "source": [
    "r = PFBReader(\"test_schema.avro\")\n",
    "r = r.__enter__()"
   ]
  },
  {
   "cell_type": "code",
   "execution_count": 6,
   "metadata": {},
   "outputs": [
    {
     "name": "stdout",
     "output_type": "stream",
     "text": [
      "{\"nodes\": [{\"name\": \"root\", \"ontology_reference\": \"\", \"values\": {}, \"links\": [], \"properties\": []}, {\"name\": \"data_release\", \"ontology_reference\": \"\", \"values\": {}, \"links\": [{\"multiplicity\": \"MANY_TO_ONE\", \"dst\": \"root\", \"name\": \"roots\"}], \"properties\": []}, {\"name\": \"reference_file_index\", \"ontology_reference\": \"\", \"values\": {}, \"links\": [{\"multiplicity\": \"MANY_TO_MANY\", \"dst\": \"reference_file\", \"name\": \"reference_files\"}, {\"multiplicity\": \"MANY_TO_MANY\", \"dst\": \"core_metadata_collection\", \"name\": \"core_metadata_collections\"}], \"properties\": []}, {\"name\": \"subject\", \"ontology_reference\": \"\", \"values\": {}, \"links\": [{\"multiplicity\": \"MANY_TO_MANY\", \"dst\": \"study\", \"name\": \"studies\"}], \"properties\": []}, {\"name\": \"submitted_unaligned_reads\", \"ontology_reference\": \"\", \"values\": {}, \"links\": [{\"multiplicity\": \"MANY_TO_MANY\", \"dst\": \"read_group\", \"name\": \"read_groups\"}, {\"multiplicity\": \"MANY_TO_MANY\", \"dst\": \"core_metadata_collection\", \"name\": \"core_metadata_collections\"}], \"properties\": []}, {\"name\": \"sample\", \"ontology_reference\": \"\", \"values\": {}, \"links\": [{\"multiplicity\": \"MANY_TO_ONE\", \"dst\": \"subject\", \"name\": \"subjects\"}], \"properties\": [{\"name\": \"biospecimen_anatomic_site\", \"ontology_reference\": \"Submitted Tumor Sample Primary Anatomic Site\", \"values\": {\"source\": \"caDSR\", \"cde_id\": \"4742851\", \"cde_version\": \"1.0\", \"term_url\": \"https://cdebrowser.nci.nih.gov/CDEBrowser/search?elementDetails=9&FirstTimer=0&PageId=ElementDetailsGroup&publicId=4742851&version=1.0\"}}, {\"name\": \"composition\", \"ontology_reference\": \"Biospecimen Cellular Composition Type\", \"values\": {\"source\": \"caDSR\", \"cde_id\": \"5432591\", \"cde_version\": \"1.0\", \"term_url\": \"https://cdebrowser.nci.nih.gov/CDEBrowser/search?elementDetails=9&FirstTimer=0&PageId=ElementDetailsGroup&publicId=5432591&version=1.0\"}}, {\"name\": \"current_weight\", \"ontology_reference\": \"Tissue Sample Current Weight Milligram Value\", \"values\": {\"source\": \"caDSR\", \"cde_id\": \"5432606\", \"cde_version\": \"1.0\", \"term_url\": \"https://cdebrowser.nci.nih.gov/CDEBrowser/search?elementDetails=9&FirstTimer=0&PageId=ElementDetailsGroup&publicId=5432606&version=1.0\"}}, {\"name\": \"freezing_method\", \"ontology_reference\": \"Tissue Sample Freezing Method Type\", \"values\": {\"source\": \"caDSR\", \"cde_id\": \"5432607\", \"cde_version\": \"1.0\", \"term_url\": \"https://cdebrowser.nci.nih.gov/CDEBrowser/search?elementDetails=9&FirstTimer=0&PageId=ElementDetailsGroup&publicId=5432607&version=1.0\"}}, {\"name\": \"is_ffpe\", \"ontology_reference\": \"Specimen Processing Formalin Fixed Paraffin Embedded Tissue Indicator\", \"values\": {\"source\": \"caDSR\", \"cde_id\": \"4170557\", \"cde_version\": \"1.0\", \"term_url\": \"https://cdebrowser.nci.nih.gov/CDEBrowser/search?elementDetails=9&FirstTimer=0&PageId=ElementDetailsGroup&publicId=4170557&version=1.0\"}}, {\"name\": \"method_of_sample_procurement\", \"ontology_reference\": \"Method of Sample Procurement\", \"values\": {}}, {\"name\": \"oct_embedded\", \"ontology_reference\": \"Tissue Sample Optimal Cutting Temperature Compound Embedding Indicator\", \"values\": {\"source\": \"caDSR\", \"cde_id\": \"5432538\", \"cde_version\": \"1.0\", \"term_url\": \"https://cdebrowser.nci.nih.gov/CDEBrowser/search?elementDetails=9&FirstTimer=0&PageId=ElementDetailsGroup&publicId=5432538&version=1.0\"}}, {\"name\": \"preservation_method\", \"ontology_reference\": \"Tissue Sample Preservation Method Type\", \"values\": {\"source\": \"caDSR\", \"cde_id\": \"5432521\", \"cde_version\": \"1.0\", \"term_url\": \"https://cdebrowser.nci.nih.gov/CDEBrowser/search?elementDetails=9&FirstTimer=0&PageId=ElementDetailsGroup&publicId=5432521&version=1.0\"}}, {\"name\": \"tissue_type\", \"ontology_reference\": \"Tissue Sample Description Type\", \"values\": {\"source\": \"caDSR\", \"cde_id\": \"5432687\", \"cde_version\": \"1.0\", \"term_url\": \"https://cdebrowser.nci.nih.gov/CDEBrowser/search?elementDetails=9&FirstTimer=0&PageId=ElementDetailsGroup&publicId=5432687&version=1.0\"}}]}, {\"name\": \"blood_pressure_test\", \"ontology_reference\": \"\", \"values\": {}, \"links\": [{\"multiplicity\": \"MANY_TO_ONE\", \"dst\": \"subject\", \"name\": \"subjects\"}], \"properties\": []}, {\"name\": \"submitted_aligned_reads\", \"ontology_reference\": \"\", \"values\": {}, \"links\": [{\"multiplicity\": \"MANY_TO_MANY\", \"dst\": \"core_metadata_collection\", \"name\": \"core_metadata_collections\"}, {\"multiplicity\": \"MANY_TO_MANY\", \"dst\": \"read_group\", \"name\": \"read_groups\"}], \"properties\": []}, {\"name\": \"aligned_reads\", \"ontology_reference\": \"\", \"values\": {}, \"links\": [{\"multiplicity\": \"MANY_TO_ONE\", \"dst\": \"core_metadata_collection\", \"name\": \"core_metadata_collections\"}, {\"multiplicity\": \"MANY_TO_ONE\", \"dst\": \"alignment_cocleaning_workflow\", \"name\": \"alignment_cocleaning_workflows\"}, {\"multiplicity\": \"MANY_TO_ONE\", \"dst\": \"alignment_workflow\", \"name\": \"alignment_workflows\"}, {\"multiplicity\": \"ONE_TO_MANY\", \"dst\": \"submitted_unaligned_reads\", \"name\": \"submitted_unaligned_reads_files\"}, {\"multiplicity\": \"ONE_TO_ONE\", \"dst\": \"submitted_aligned_reads\", \"name\": \"submitted_aligned_reads_files\"}], \"properties\": []}, {\"name\": \"imaging_file\", \"ontology_reference\": \"\", \"values\": {}, \"links\": [{\"multiplicity\": \"MANY_TO_ONE\", \"dst\": \"core_metadata_collection\", \"name\": \"core_metadata_collections\"}, {\"multiplicity\": \"MANY_TO_ONE\", \"dst\": \"subject\", \"name\": \"subjects\"}], \"properties\": []}, {\"name\": \"program\", \"ontology_reference\": \"\", \"values\": {}, \"links\": [], \"properties\": []}, {\"name\": \"medication\", \"ontology_reference\": \"\", \"values\": {}, \"links\": [{\"multiplicity\": \"ONE_TO_ONE\", \"dst\": \"subject\", \"name\": \"subjects\"}], \"properties\": []}, {\"name\": \"lab_result\", \"ontology_reference\": \"\", \"values\": {}, \"links\": [{\"multiplicity\": \"ONE_TO_ONE\", \"dst\": \"subject\", \"name\": \"subjects\"}], \"properties\": []}, {\"name\": \"germline_variation_index\", \"ontology_reference\": \"\", \"values\": {}, \"links\": [{\"multiplicity\": \"ONE_TO_ONE\", \"dst\": \"simple_germline_variation\", \"name\": \"simple_germline_variations\"}, {\"multiplicity\": \"MANY_TO_MANY\", \"dst\": \"core_metadata_collection\", \"name\": \"core_metadata_collections\"}], \"properties\": []}, {\"name\": \"read_group\", \"ontology_reference\": \"\", \"values\": {}, \"links\": [{\"multiplicity\": \"MANY_TO_ONE\", \"dst\": \"aliquot\", \"name\": \"aliquots\"}], \"properties\": [{\"name\": \"RIN\", \"ontology_reference\": \"Biospecimen RNA Integrity Number Value\", \"values\": {\"source\": \"caDSR\", \"cde_id\": \"5278775\", \"cde_version\": \"1.0\", \"term_url\": \"https://cdebrowser.nci.nih.gov/CDEBrowser/search?elementDetails=9&FirstTimer=0&PageId=ElementDetailsGroup&publicId=5278775&version=1.0\"}}]}, {\"name\": \"alignment_cocleaning_workflow\", \"ontology_reference\": \"\", \"values\": {}, \"links\": [{\"multiplicity\": \"ONE_TO_MANY\", \"dst\": \"submitted_aligned_reads\", \"name\": \"submitted_aligned_reads_files\"}, {\"multiplicity\": \"ONE_TO_MANY\", \"dst\": \"submitted_unaligned_reads\", \"name\": \"submitted_unaligned_reads_files\"}], \"properties\": []}, {\"name\": \"aliquot\", \"ontology_reference\": \"\", \"values\": {}, \"links\": [{\"multiplicity\": \"MANY_TO_MANY\", \"dst\": \"sample\", \"name\": \"samples\"}], \"properties\": [{\"name\": \"aliquot_quantity\", \"ontology_reference\": \"Biospecimen Aliquot Quantity\", \"values\": {}}, {\"name\": \"aliquot_volume\", \"ontology_reference\": \"Biospecimen Aliquot Volume\", \"values\": {}}, {\"name\": \"analyte_type\", \"ontology_reference\": \"Molecular Specimen Type Text Name\", \"values\": {\"source\": \"caDSR\", \"cde_id\": \"2513915\", \"cde_version\": \"2.0\", \"term_url\": \"https://cdebrowser.nci.nih.gov/CDEBrowser/search?elementDetails=9&FirstTimer=0&PageId=ElementDetailsGroup&publicId=2513915&version=2.0\"}}, {\"name\": \"concentration\", \"ontology_reference\": \"Biospecimen Analyte or Aliquot Extracted Concentration Milligram per Milliliter Value\", \"values\": {\"source\": \"caDSR\", \"cde_id\": \"5432594\", \"cde_version\": \"1.0\", \"term_url\": \"https://cdebrowser.nci.nih.gov/CDEBrowser/search?elementDetails=9&FirstTimer=0&PageId=ElementDetailsGroup&publicId=5432594&version=1.0\"}}]}, {\"name\": \"exposure\", \"ontology_reference\": \"\", \"values\": {}, \"links\": [{\"multiplicity\": \"MANY_TO_ONE\", \"dst\": \"subject\", \"name\": \"subjects\"}], \"properties\": [{\"name\": \"years_smoked\", \"ontology_reference\": \"Person Smoking Duration Year Count\", \"values\": {\"source\": \"caDSR\", \"cde_id\": \"3137957\", \"cde_version\": \"1.0\", \"term_url\": \"https://cdebrowser.nci.nih.gov/CDEBrowser/search?elementDetails=9&FirstTimer=0&PageId=ElementDetailsGroup&publicId=3137957&version=1.0\"}}, {\"name\": \"years_smoked_gt89\", \"ontology_reference\": \"Person Smoking Duration Year Count\", \"values\": {\"source\": \"caDSR\", \"cde_id\": \"3137957\", \"cde_version\": \"1.0\", \"term_url\": \"https://cdebrowser.nci.nih.gov/CDEBrowser/search?elementDetails=9&FirstTimer=0&PageId=ElementDetailsGroup&publicId=3137957&version=1.0\"}}]}, {\"name\": \"core_metadata_collection\", \"ontology_reference\": \"\", \"values\": {}, \"links\": [{\"multiplicity\": \"MANY_TO_ONE\", \"dst\": \"project\", \"name\": \"projects\"}], \"properties\": []}, {\"name\": \"aligned_reads_index\", \"ontology_reference\": \"\", \"values\": {}, \"links\": [{\"multiplicity\": \"ONE_TO_ONE\", \"dst\": \"submitted_aligned_reads\", \"name\": \"submitted_aligned_reads_files\"}, {\"multiplicity\": \"ONE_TO_ONE\", \"dst\": \"aligned_reads\", \"name\": \"aligned_reads_files\"}, {\"multiplicity\": \"MANY_TO_MANY\", \"dst\": \"core_metadata_collection\", \"name\": \"core_metadata_collections\"}], \"properties\": []}, {\"name\": \"project\", \"ontology_reference\": \"\", \"values\": {}, \"links\": [{\"multiplicity\": \"MANY_TO_ONE\", \"dst\": \"program\", \"name\": \"programs\"}], \"properties\": []}, {\"name\": \"imaging_file_reference\", \"ontology_reference\": \"\", \"values\": {}, \"links\": [{\"multiplicity\": \"MANY_TO_ONE\", \"dst\": \"core_metadata_collection\", \"name\": \"core_metadata_collections\"}, {\"multiplicity\": \"MANY_TO_MANY\", \"dst\": \"imaging_file\", \"name\": \"imaging_files\"}], \"properties\": []}, {\"name\": \"simple_germline_variation\", \"ontology_reference\": \"\", \"values\": {}, \"links\": [{\"multiplicity\": \"MANY_TO_ONE\", \"dst\": \"core_metadata_collection\", \"name\": \"core_metadata_collections\"}, {\"multiplicity\": \"MANY_TO_ONE\", \"dst\": \"germline_mutation_calling_workflow\", \"name\": \"germline_mutation_calling_workflows\"}, {\"multiplicity\": \"MANY_TO_MANY\", \"dst\": \"read_group\", \"name\": \"read_groups\"}, {\"multiplicity\": \"MANY_TO_MANY\", \"dst\": \"submitted_aligned_reads\", \"name\": \"submitted_aligned_reads_files\"}, {\"multiplicity\": \"MANY_TO_MANY\", \"dst\": \"aligned_reads\", \"name\": \"aligned_reads_files\"}], \"properties\": []}, {\"name\": \"alignment_workflow\", \"ontology_reference\": \"\", \"values\": {}, \"links\": [{\"multiplicity\": \"ONE_TO_MANY\", \"dst\": \"submitted_aligned_reads\", \"name\": \"submitted_aligned_reads_files\"}, {\"multiplicity\": \"ONE_TO_MANY\", \"dst\": \"submitted_unaligned_reads\", \"name\": \"submitted_unaligned_reads_files\"}], \"properties\": []}, {\"name\": \"germline_mutation_calling_workflow\", \"ontology_reference\": \"\", \"values\": {}, \"links\": [{\"multiplicity\": \"MANY_TO_MANY\", \"dst\": \"submitted_aligned_reads\", \"name\": \"submitted_aligned_reads_files\"}, {\"multiplicity\": \"MANY_TO_MANY\", \"dst\": \"aligned_reads\", \"name\": \"aligned_reads_files\"}], \"properties\": []}, {\"name\": \"sleep_test_file\", \"ontology_reference\": \"\", \"values\": {}, \"links\": [{\"multiplicity\": \"MANY_TO_MANY\", \"dst\": \"subject\", \"name\": \"subjects\"}, {\"multiplicity\": \"MANY_TO_MANY\", \"dst\": \"core_metadata_collection\", \"name\": \"core_metadata_collections\"}], \"properties\": []}, {\"name\": \"publication\", \"ontology_reference\": \"\", \"values\": {}, \"links\": [{\"multiplicity\": \"MANY_TO_MANY\", \"dst\": \"project\", \"name\": \"projects\"}], \"properties\": []}, {\"name\": \"reference_file\", \"ontology_reference\": \"\", \"values\": {}, \"links\": [{\"multiplicity\": \"MANY_TO_ONE\", \"dst\": \"core_metadata_collection\", \"name\": \"core_metadata_collections\"}, {\"multiplicity\": \"MANY_TO_ONE\", \"dst\": \"project\", \"name\": \"projects\"}], \"properties\": []}, {\"name\": \"electrocardiogram_test\", \"ontology_reference\": \"\", \"values\": {}, \"links\": [{\"multiplicity\": \"ONE_TO_ONE\", \"dst\": \"subject\", \"name\": \"subjects\"}], \"properties\": []}, {\"name\": \"cardiac_mri\", \"ontology_reference\": \"\", \"values\": {}, \"links\": [{\"multiplicity\": \"ONE_TO_ONE\", \"dst\": \"subject\", \"name\": \"subjects\"}], \"properties\": []}, {\"name\": \"medical_history\", \"ontology_reference\": \"\", \"values\": {}, \"links\": [{\"multiplicity\": \"ONE_TO_ONE\", \"dst\": \"subject\", \"name\": \"subjects\"}], \"properties\": []}, {\"name\": \"demographic\", \"ontology_reference\": \"\", \"values\": {}, \"links\": [{\"multiplicity\": \"ONE_TO_ONE\", \"dst\": \"subject\", \"name\": \"subjects\"}], \"properties\": [{\"name\": \"annotated_sex\", \"ontology_reference\": \"Person Gender Text Type\", \"values\": {\"source\": \"caDSR\", \"cde_id\": \"2200604\", \"cde_version\": \"3.0\", \"term_url\": \"https://cdebrowser.nci.nih.gov/CDEBrowser/search?elementDetails=9&FirstTimer=0&PageId=ElementDetailsGroup&publicId=2200604&version=3.0\"}}, {\"name\": \"race\", \"ontology_reference\": \"Race Category Text\", \"values\": {\"source\": \"caDSR\", \"cde_id\": \"2192199\", \"cde_version\": \"1.0\", \"term_url\": \"https://cdebrowser.nci.nih.gov/CDEBrowser/search?elementDetails=9&FirstTimer=0&PageId=ElementDetailsGroup&publicId=2192199&version=1.0\"}}, {\"name\": \"ethnicity\", \"ontology_reference\": \"Ethnic Group Category Text\", \"values\": {\"source\": \"caDSR\", \"cde_id\": \"2192217\", \"cde_version\": \"2.0\", \"term_url\": \"https://cdebrowser.nci.nih.gov/CDEBrowser/search?elementDetails=9&FirstTimer=0&PageId=ElementDetailsGroup&publicId=2192217&version=2.0\"}}, {\"name\": \"weight\", \"ontology_reference\": \"Patient Weight Measurement\", \"values\": {\"source\": \"caDSR\", \"cde_id\": \"651\", \"cde_version\": \"4.0\", \"term_url\": \"https://cdebrowser.nci.nih.gov/CDEBrowser/search?elementDetails=9&FirstTimer=0&PageId=ElementDetailsGroup&publicId=651&version=4.0\"}}, {\"name\": \"bmi_baseline\", \"ontology_reference\": \"Body Mass Index (BMI)\", \"values\": {\"source\": \"caDSR\", \"cde_id\": \"4973892\", \"cde_version\": \"1.0\", \"term_url\": \"https://cdebrowser.nci.nih.gov/CDEBrowser/search?elementDetails=9&FirstTimer=0&PageId=ElementDetailsGroup&publicId=4973892&version=1.0\"}}, {\"name\": \"height_baseline\", \"ontology_reference\": \"Patient Height Measurement\", \"values\": {\"source\": \"caDSR\", \"cde_id\": \"649\", \"cde_version\": \"4.1\", \"term_url\": \"https://cdebrowser.nci.nih.gov/CDEBrowser/search?elementDetails=9&FirstTimer=0&PageId=ElementDetailsGroup&publicId=649&version=4.1\"}}]}, {\"name\": \"study\", \"ontology_reference\": \"\", \"values\": {}, \"links\": [{\"multiplicity\": \"MANY_TO_ONE\", \"dst\": \"project\", \"name\": \"projects\"}], \"properties\": []}, {\"name\": \"acknowledgement\", \"ontology_reference\": \"\", \"values\": {}, \"links\": [{\"multiplicity\": \"MANY_TO_MANY\", \"dst\": \"project\", \"name\": \"projects\"}], \"properties\": []}], \"misc\": {}}\n"
     ]
    }
   ],
   "source": [
    "print(json.dumps(r.metadata))"
   ]
  },
  {
   "cell_type": "markdown",
   "metadata": {},
   "source": [
    "## Finally we will print out all of the external ontology references that exist in this PFB"
   ]
  },
  {
   "cell_type": "code",
   "execution_count": 7,
   "metadata": {},
   "outputs": [
    {
     "name": "stdout",
     "output_type": "stream",
     "text": [
      "Dictionary Definiton:  biospecimen_anatomic_site\n",
      "Ontology Reference:  Submitted Tumor Sample Primary Anatomic Site\n",
      "Term URL:  https://cdebrowser.nci.nih.gov/CDEBrowser/search?elementDetails=9&FirstTimer=0&PageId=ElementDetailsGroup&publicId=4742851&version=1.0\n",
      "CDE ID:  4742851\n",
      "Dictionary Definiton:  composition\n",
      "Ontology Reference:  Biospecimen Cellular Composition Type\n",
      "Term URL:  https://cdebrowser.nci.nih.gov/CDEBrowser/search?elementDetails=9&FirstTimer=0&PageId=ElementDetailsGroup&publicId=5432591&version=1.0\n",
      "CDE ID:  5432591\n",
      "Dictionary Definiton:  current_weight\n",
      "Ontology Reference:  Tissue Sample Current Weight Milligram Value\n",
      "Term URL:  https://cdebrowser.nci.nih.gov/CDEBrowser/search?elementDetails=9&FirstTimer=0&PageId=ElementDetailsGroup&publicId=5432606&version=1.0\n",
      "CDE ID:  5432606\n",
      "Dictionary Definiton:  freezing_method\n",
      "Ontology Reference:  Tissue Sample Freezing Method Type\n",
      "Term URL:  https://cdebrowser.nci.nih.gov/CDEBrowser/search?elementDetails=9&FirstTimer=0&PageId=ElementDetailsGroup&publicId=5432607&version=1.0\n",
      "CDE ID:  5432607\n",
      "Dictionary Definiton:  is_ffpe\n",
      "Ontology Reference:  Specimen Processing Formalin Fixed Paraffin Embedded Tissue Indicator\n",
      "Term URL:  https://cdebrowser.nci.nih.gov/CDEBrowser/search?elementDetails=9&FirstTimer=0&PageId=ElementDetailsGroup&publicId=4170557&version=1.0\n",
      "CDE ID:  4170557\n",
      "Dictionary Definiton:  oct_embedded\n",
      "Ontology Reference:  Tissue Sample Optimal Cutting Temperature Compound Embedding Indicator\n",
      "Term URL:  https://cdebrowser.nci.nih.gov/CDEBrowser/search?elementDetails=9&FirstTimer=0&PageId=ElementDetailsGroup&publicId=5432538&version=1.0\n",
      "CDE ID:  5432538\n",
      "Dictionary Definiton:  preservation_method\n",
      "Ontology Reference:  Tissue Sample Preservation Method Type\n",
      "Term URL:  https://cdebrowser.nci.nih.gov/CDEBrowser/search?elementDetails=9&FirstTimer=0&PageId=ElementDetailsGroup&publicId=5432521&version=1.0\n",
      "CDE ID:  5432521\n",
      "Dictionary Definiton:  tissue_type\n",
      "Ontology Reference:  Tissue Sample Description Type\n",
      "Term URL:  https://cdebrowser.nci.nih.gov/CDEBrowser/search?elementDetails=9&FirstTimer=0&PageId=ElementDetailsGroup&publicId=5432687&version=1.0\n",
      "CDE ID:  5432687\n",
      "Dictionary Definiton:  RIN\n",
      "Ontology Reference:  Biospecimen RNA Integrity Number Value\n",
      "Term URL:  https://cdebrowser.nci.nih.gov/CDEBrowser/search?elementDetails=9&FirstTimer=0&PageId=ElementDetailsGroup&publicId=5278775&version=1.0\n",
      "CDE ID:  5278775\n",
      "Dictionary Definiton:  analyte_type\n",
      "Ontology Reference:  Molecular Specimen Type Text Name\n",
      "Term URL:  https://cdebrowser.nci.nih.gov/CDEBrowser/search?elementDetails=9&FirstTimer=0&PageId=ElementDetailsGroup&publicId=2513915&version=2.0\n",
      "CDE ID:  2513915\n",
      "Dictionary Definiton:  concentration\n",
      "Ontology Reference:  Biospecimen Analyte or Aliquot Extracted Concentration Milligram per Milliliter Value\n",
      "Term URL:  https://cdebrowser.nci.nih.gov/CDEBrowser/search?elementDetails=9&FirstTimer=0&PageId=ElementDetailsGroup&publicId=5432594&version=1.0\n",
      "CDE ID:  5432594\n",
      "Dictionary Definiton:  years_smoked\n",
      "Ontology Reference:  Person Smoking Duration Year Count\n",
      "Term URL:  https://cdebrowser.nci.nih.gov/CDEBrowser/search?elementDetails=9&FirstTimer=0&PageId=ElementDetailsGroup&publicId=3137957&version=1.0\n",
      "CDE ID:  3137957\n",
      "Dictionary Definiton:  years_smoked_gt89\n",
      "Ontology Reference:  Person Smoking Duration Year Count\n",
      "Term URL:  https://cdebrowser.nci.nih.gov/CDEBrowser/search?elementDetails=9&FirstTimer=0&PageId=ElementDetailsGroup&publicId=3137957&version=1.0\n",
      "CDE ID:  3137957\n",
      "Dictionary Definiton:  annotated_sex\n",
      "Ontology Reference:  Person Gender Text Type\n",
      "Term URL:  https://cdebrowser.nci.nih.gov/CDEBrowser/search?elementDetails=9&FirstTimer=0&PageId=ElementDetailsGroup&publicId=2200604&version=3.0\n",
      "CDE ID:  2200604\n",
      "Dictionary Definiton:  race\n",
      "Ontology Reference:  Race Category Text\n",
      "Term URL:  https://cdebrowser.nci.nih.gov/CDEBrowser/search?elementDetails=9&FirstTimer=0&PageId=ElementDetailsGroup&publicId=2192199&version=1.0\n",
      "CDE ID:  2192199\n",
      "Dictionary Definiton:  ethnicity\n",
      "Ontology Reference:  Ethnic Group Category Text\n",
      "Term URL:  https://cdebrowser.nci.nih.gov/CDEBrowser/search?elementDetails=9&FirstTimer=0&PageId=ElementDetailsGroup&publicId=2192217&version=2.0\n",
      "CDE ID:  2192217\n",
      "Dictionary Definiton:  weight\n",
      "Ontology Reference:  Patient Weight Measurement\n",
      "Term URL:  https://cdebrowser.nci.nih.gov/CDEBrowser/search?elementDetails=9&FirstTimer=0&PageId=ElementDetailsGroup&publicId=651&version=4.0\n",
      "CDE ID:  651\n",
      "Dictionary Definiton:  bmi_baseline\n",
      "Ontology Reference:  Body Mass Index (BMI)\n",
      "Term URL:  https://cdebrowser.nci.nih.gov/CDEBrowser/search?elementDetails=9&FirstTimer=0&PageId=ElementDetailsGroup&publicId=4973892&version=1.0\n",
      "CDE ID:  4973892\n",
      "Dictionary Definiton:  height_baseline\n",
      "Ontology Reference:  Patient Height Measurement\n",
      "Term URL:  https://cdebrowser.nci.nih.gov/CDEBrowser/search?elementDetails=9&FirstTimer=0&PageId=ElementDetailsGroup&publicId=649&version=4.1\n",
      "CDE ID:  649\n"
     ]
    }
   ],
   "source": [
    "for node in r.metadata[\"nodes\"]:\n",
    "    for prop in node[\"properties\"]:\n",
    "        if prop[\"ontology_reference\"] != \"\" and \"term_url\" in prop[\"values\"]:\n",
    "            print(\"Dictionary Definiton: \", prop[\"name\"])\n",
    "            print(\"Ontology Reference: \", prop[\"ontology_reference\"])\n",
    "            print(\"Term URL: \", prop[\"values\"][\"term_url\"])\n",
    "            print(\"CDE ID: \",  prop[\"values\"][\"cde_id\"])"
   ]
  },
  {
   "cell_type": "markdown",
   "metadata": {},
   "source": [
    "## Now we add data into our pfb file\n",
    "This is essentially running the command `pfb from -o test_data.avro json -s test_schema.avro --program DEV --project TEST ./bdc-sample`"
   ]
  },
  {
   "cell_type": "code",
   "execution_count": 8,
   "metadata": {},
   "outputs": [
    {
     "name": "stderr",
     "output_type": "stream",
     "text": [
      "\u001b[34m1/31: \u001b[0m\u001b[37mdemographic\u001b[0m\n",
      "\u001b[34m2/31: \u001b[0m\u001b[37mproject\u001b[0m\n",
      "\u001b[34m3/31: \u001b[0m\u001b[37mexposure\u001b[0m\n",
      "\u001b[34m4/31: \u001b[0m\u001b[37msleep_test_file\u001b[0m\n",
      "\u001b[34m5/31: \u001b[0m\u001b[37mimaging_file\u001b[0m\n",
      "\u001b[34m6/31: \u001b[0m\u001b[37mgermline_variation_index\u001b[0m\n",
      "\u001b[34m7/31: \u001b[0m\u001b[37mpublication\u001b[0m\n",
      "\u001b[34m8/31: \u001b[0m\u001b[37macknowledgement\u001b[0m\n",
      "\u001b[34m9/31: \u001b[0m\u001b[37maligned_reads_index\u001b[0m\n",
      "\u001b[34m10/31: \u001b[0m\u001b[37mmedical_history\u001b[0m\n",
      "\u001b[34m11/31: \u001b[0m\u001b[37mimaging_file_reference\u001b[0m\n",
      "\u001b[34m12/31: \u001b[0m\u001b[37mblood_pressure_test\u001b[0m\n",
      "\u001b[34m13/31: \u001b[0m\u001b[37msubmitted_unaligned_reads\u001b[0m\n",
      "\u001b[34m14/31: \u001b[0m\u001b[37mlab_result\u001b[0m\n",
      "\u001b[34m15/31: \u001b[0m\u001b[37mstudy\u001b[0m\n",
      "\u001b[34m16/31: \u001b[0m\u001b[37mmedication\u001b[0m\n",
      "\u001b[34m17/31: \u001b[0m\u001b[37maliquot\u001b[0m\n",
      "\u001b[34m18/31: \u001b[0m\u001b[37msimple_germline_variation\u001b[0m\n",
      "\u001b[34m19/31: \u001b[0m\u001b[37mgermline_mutation_calling_workflow\u001b[0m\n",
      "\u001b[34m20/31: \u001b[0m\u001b[37msubmitted_aligned_reads\u001b[0m\n",
      "\u001b[34m21/31: \u001b[0m\u001b[37malignment_cocleaning_workflow\u001b[0m\n",
      "\u001b[34m22/31: \u001b[0m\u001b[37melectrocardiogram_test\u001b[0m\n",
      "\u001b[34m23/31: \u001b[0m\u001b[37malignment_workflow\u001b[0m\n",
      "\u001b[34m24/31: \u001b[0m\u001b[37mread_group\u001b[0m\n",
      "\u001b[34m25/31: \u001b[0m\u001b[37mcore_metadata_collection\u001b[0m\n",
      "\u001b[34m26/31: \u001b[0m\u001b[37mcardiac_mri\u001b[0m\n",
      "\u001b[34m27/31: \u001b[0m\u001b[37mreference_file\u001b[0m\n",
      "\u001b[34m28/31: \u001b[0m\u001b[37msubject\u001b[0m\n",
      "\u001b[34m29/31: \u001b[0m\u001b[37mreference_file_index\u001b[0m\n",
      "\u001b[34m30/31: \u001b[0m\u001b[37maligned_reads\u001b[0m\n",
      "\u001b[34m31/31: \u001b[0m\u001b[37msample\u001b[0m\n"
     ]
    }
   ],
   "source": [
    "writer = PFBWriter(file_or_path=\"test_data.avro\")\n",
    "writer.__enter__()\n",
    "\n",
    "with PFBReader(\"test_schema.avro\") as reader:\n",
    "    writer.copy_schema(reader)\n",
    "\n",
    "writer.write(pfbJSON._from_json(writer.metadata, \"./bdc-sample\", \"DEV\", \"TEST\"))"
   ]
  },
  {
   "cell_type": "markdown",
   "metadata": {},
   "source": [
    "## Now we want to show that we can translate the ontology references to CDISC"
   ]
  },
  {
   "cell_type": "code",
   "execution_count": 9,
   "metadata": {},
   "outputs": [],
   "source": [
    "# first we set up a translation dictionary of NCIt CDEs to CDISC ids\n",
    "ontology_translation = {}\n",
    "ontology_translation[\"649\"] = [\"sendct-2021-12-17.C90012.C25209\", \"MEASUREMENT\", \"https://library.cdisc.org/browser/#/mdr/ct/2021-12-17/packages/sendct-2021-12-17/codelists/C90012/terms/C25209\"]\n",
    "ontology_translation[\"4973892\"] = [\"sdtmct-2021-12-17.C67153.C16358\", \"Body Mass Index\", \"https://library.cdisc.org/browser/#/mdr/ct/2021-12-17/packages/sdtmct-2021-12-17/codelists/C67153/terms/C16358\"]\n",
    "ontology_translation[\"2192217\"] = [\"glossaryct-2021-12-17.C67497.C16564\", \"ethnicity\", \"https://library.cdisc.org/browser/#/mdr/ct/2021-12-17/packages/glossaryct-2021-12-17/codelists/C67497/terms/C16564\"]\n",
    "ontology_translation[\"2192199\"] = [\"glossaryct-2021-12-17.C67497.C17049\", \"race\", \"https://library.cdisc.org/browser/#/mdr/ct/2021-12-17/packages/glossaryct-2021-12-17/codelists/C67497/terms/C17049\"]\n",
    "ontology_translation[\"5278775\"] = [\"sdtmct-2021-06-25.C124300.C63637\", \"RIN\", \"https://library.cdisc.org/browser/#/mdr/ct/2021-06-25/packages/sdtmct-2021-06-25/codelists/C124300/terms/C63637\"]"
   ]
  },
  {
   "cell_type": "code",
   "execution_count": 10,
   "metadata": {},
   "outputs": [],
   "source": [
    "w_out = PFBWriter(file_or_path=\"ontology_schema.avro\")\n",
    "w_out.__enter__()\n",
    "\n",
    "d = DataDictionary(url = \"https://s3.amazonaws.com/dictionary-artifacts/gtexdictionary/4.4.0/schema.json\")\n",
    "dictionary.init(d)\n",
    "\n",
    "records, ontology_references, links = gen3dict._parse_dictionary(d)\n",
    "\n",
    "metadata_new = gen3dict._get_ontology_references(ontology_references, links)\n",
    "\n",
    "node_count = 0\n",
    "for node in metadata_new[\"nodes\"]:\n",
    "    prop_count = 0\n",
    "    for prop in node[\"properties\"]:\n",
    "        if prop[\"ontology_reference\"] != \"\" and \"term_url\" in prop[\"values\"]:\n",
    "            if prop[\"values\"][\"cde_id\"] in ontology_translation:\n",
    "                metadata_new[\"nodes\"][node_count][\"properties\"][prop_count][\"values\"][\"term_url\"] = ontology_translation[prop[\"values\"][\"cde_id\"]][2]\n",
    "                metadata_new[\"nodes\"][node_count][\"properties\"][prop_count][\"ontology_reference\"] = ontology_translation[prop[\"values\"][\"cde_id\"]][1]\n",
    "                metadata_new[\"nodes\"][node_count][\"properties\"][prop_count][\"values\"][\"cde_id\"] = ontology_translation[prop[\"values\"][\"cde_id\"]][0]\n",
    "        prop_count += 1\n",
    "    node_count += 1\n"
   ]
  },
  {
   "cell_type": "code",
   "execution_count": 11,
   "metadata": {},
   "outputs": [],
   "source": [
    "w_out.set_schema(records)\n",
    "w_out.set_metadata(metadata_new)\n",
    "w_out.write()"
   ]
  },
  {
   "cell_type": "code",
   "execution_count": 12,
   "metadata": {},
   "outputs": [],
   "source": [
    "r_translation = PFBReader(\"ontology_schema.avro\")\n",
    "r_translation = r_translation.__enter__()"
   ]
  },
  {
   "cell_type": "markdown",
   "metadata": {},
   "source": [
    "## We can see our new translations in the metadata"
   ]
  },
  {
   "cell_type": "code",
   "execution_count": 13,
   "metadata": {},
   "outputs": [
    {
     "name": "stdout",
     "output_type": "stream",
     "text": [
      "Dictionary Definiton:  biospecimen_anatomic_site\n",
      "Ontology Reference:  Submitted Tumor Sample Primary Anatomic Site\n",
      "Term URL:  https://cdebrowser.nci.nih.gov/CDEBrowser/search?elementDetails=9&FirstTimer=0&PageId=ElementDetailsGroup&publicId=4742851&version=1.0\n",
      "CDE ID:  4742851\n",
      "Dictionary Definiton:  composition\n",
      "Ontology Reference:  Biospecimen Cellular Composition Type\n",
      "Term URL:  https://cdebrowser.nci.nih.gov/CDEBrowser/search?elementDetails=9&FirstTimer=0&PageId=ElementDetailsGroup&publicId=5432591&version=1.0\n",
      "CDE ID:  5432591\n",
      "Dictionary Definiton:  current_weight\n",
      "Ontology Reference:  Tissue Sample Current Weight Milligram Value\n",
      "Term URL:  https://cdebrowser.nci.nih.gov/CDEBrowser/search?elementDetails=9&FirstTimer=0&PageId=ElementDetailsGroup&publicId=5432606&version=1.0\n",
      "CDE ID:  5432606\n",
      "Dictionary Definiton:  freezing_method\n",
      "Ontology Reference:  Tissue Sample Freezing Method Type\n",
      "Term URL:  https://cdebrowser.nci.nih.gov/CDEBrowser/search?elementDetails=9&FirstTimer=0&PageId=ElementDetailsGroup&publicId=5432607&version=1.0\n",
      "CDE ID:  5432607\n",
      "Dictionary Definiton:  is_ffpe\n",
      "Ontology Reference:  Specimen Processing Formalin Fixed Paraffin Embedded Tissue Indicator\n",
      "Term URL:  https://cdebrowser.nci.nih.gov/CDEBrowser/search?elementDetails=9&FirstTimer=0&PageId=ElementDetailsGroup&publicId=4170557&version=1.0\n",
      "CDE ID:  4170557\n",
      "Dictionary Definiton:  oct_embedded\n",
      "Ontology Reference:  Tissue Sample Optimal Cutting Temperature Compound Embedding Indicator\n",
      "Term URL:  https://cdebrowser.nci.nih.gov/CDEBrowser/search?elementDetails=9&FirstTimer=0&PageId=ElementDetailsGroup&publicId=5432538&version=1.0\n",
      "CDE ID:  5432538\n",
      "Dictionary Definiton:  preservation_method\n",
      "Ontology Reference:  Tissue Sample Preservation Method Type\n",
      "Term URL:  https://cdebrowser.nci.nih.gov/CDEBrowser/search?elementDetails=9&FirstTimer=0&PageId=ElementDetailsGroup&publicId=5432521&version=1.0\n",
      "CDE ID:  5432521\n",
      "Dictionary Definiton:  tissue_type\n",
      "Ontology Reference:  Tissue Sample Description Type\n",
      "Term URL:  https://cdebrowser.nci.nih.gov/CDEBrowser/search?elementDetails=9&FirstTimer=0&PageId=ElementDetailsGroup&publicId=5432687&version=1.0\n",
      "CDE ID:  5432687\n",
      "Dictionary Definiton:  RIN\n",
      "Ontology Reference:  RIN\n",
      "Term URL:  https://library.cdisc.org/browser/#/mdr/ct/2021-06-25/packages/sdtmct-2021-06-25/codelists/C124300/terms/C63637\n",
      "CDE ID:  sdtmct-2021-06-25.C124300.C63637\n",
      "Dictionary Definiton:  analyte_type\n",
      "Ontology Reference:  Molecular Specimen Type Text Name\n",
      "Term URL:  https://cdebrowser.nci.nih.gov/CDEBrowser/search?elementDetails=9&FirstTimer=0&PageId=ElementDetailsGroup&publicId=2513915&version=2.0\n",
      "CDE ID:  2513915\n",
      "Dictionary Definiton:  concentration\n",
      "Ontology Reference:  Biospecimen Analyte or Aliquot Extracted Concentration Milligram per Milliliter Value\n",
      "Term URL:  https://cdebrowser.nci.nih.gov/CDEBrowser/search?elementDetails=9&FirstTimer=0&PageId=ElementDetailsGroup&publicId=5432594&version=1.0\n",
      "CDE ID:  5432594\n",
      "Dictionary Definiton:  years_smoked\n",
      "Ontology Reference:  Person Smoking Duration Year Count\n",
      "Term URL:  https://cdebrowser.nci.nih.gov/CDEBrowser/search?elementDetails=9&FirstTimer=0&PageId=ElementDetailsGroup&publicId=3137957&version=1.0\n",
      "CDE ID:  3137957\n",
      "Dictionary Definiton:  years_smoked_gt89\n",
      "Ontology Reference:  Person Smoking Duration Year Count\n",
      "Term URL:  https://cdebrowser.nci.nih.gov/CDEBrowser/search?elementDetails=9&FirstTimer=0&PageId=ElementDetailsGroup&publicId=3137957&version=1.0\n",
      "CDE ID:  3137957\n",
      "Dictionary Definiton:  annotated_sex\n",
      "Ontology Reference:  Person Gender Text Type\n",
      "Term URL:  https://cdebrowser.nci.nih.gov/CDEBrowser/search?elementDetails=9&FirstTimer=0&PageId=ElementDetailsGroup&publicId=2200604&version=3.0\n",
      "CDE ID:  2200604\n",
      "Dictionary Definiton:  race\n",
      "Ontology Reference:  race\n",
      "Term URL:  https://library.cdisc.org/browser/#/mdr/ct/2021-12-17/packages/glossaryct-2021-12-17/codelists/C67497/terms/C17049\n",
      "CDE ID:  glossaryct-2021-12-17.C67497.C17049\n",
      "Dictionary Definiton:  ethnicity\n",
      "Ontology Reference:  ethnicity\n",
      "Term URL:  https://library.cdisc.org/browser/#/mdr/ct/2021-12-17/packages/glossaryct-2021-12-17/codelists/C67497/terms/C16564\n",
      "CDE ID:  glossaryct-2021-12-17.C67497.C16564\n",
      "Dictionary Definiton:  weight\n",
      "Ontology Reference:  Patient Weight Measurement\n",
      "Term URL:  https://cdebrowser.nci.nih.gov/CDEBrowser/search?elementDetails=9&FirstTimer=0&PageId=ElementDetailsGroup&publicId=651&version=4.0\n",
      "CDE ID:  651\n",
      "Dictionary Definiton:  bmi_baseline\n",
      "Ontology Reference:  Body Mass Index\n",
      "Term URL:  https://library.cdisc.org/browser/#/mdr/ct/2021-12-17/packages/sdtmct-2021-12-17/codelists/C67153/terms/C16358\n",
      "CDE ID:  sdtmct-2021-12-17.C67153.C16358\n",
      "Dictionary Definiton:  height_baseline\n",
      "Ontology Reference:  MEASUREMENT\n",
      "Term URL:  https://library.cdisc.org/browser/#/mdr/ct/2021-12-17/packages/sendct-2021-12-17/codelists/C90012/terms/C25209\n",
      "CDE ID:  sendct-2021-12-17.C90012.C25209\n"
     ]
    }
   ],
   "source": [
    "for node in r_translation.metadata[\"nodes\"]:\n",
    "    for prop in node[\"properties\"]:\n",
    "        if prop[\"ontology_reference\"] != \"\" and \"term_url\" in prop[\"values\"]:\n",
    "            print(\"Dictionary Definiton: \", prop[\"name\"])\n",
    "            print(\"Ontology Reference: \", prop[\"ontology_reference\"])\n",
    "            print(\"Term URL: \", prop[\"values\"][\"term_url\"])\n",
    "            print(\"CDE ID: \",  prop[\"values\"][\"cde_id\"])"
   ]
  },
  {
   "cell_type": "markdown",
   "metadata": {},
   "source": [
    "## Now we add the data in like before"
   ]
  },
  {
   "cell_type": "code",
   "execution_count": 14,
   "metadata": {},
   "outputs": [
    {
     "name": "stderr",
     "output_type": "stream",
     "text": [
      "\u001b[34m1/31: \u001b[0m\u001b[37mdemographic\u001b[0m\n",
      "\u001b[34m2/31: \u001b[0m\u001b[37mproject\u001b[0m\n",
      "\u001b[34m3/31: \u001b[0m\u001b[37mexposure\u001b[0m\n",
      "\u001b[34m4/31: \u001b[0m\u001b[37msleep_test_file\u001b[0m\n",
      "\u001b[34m5/31: \u001b[0m\u001b[37mimaging_file\u001b[0m\n",
      "\u001b[34m6/31: \u001b[0m\u001b[37mgermline_variation_index\u001b[0m\n",
      "\u001b[34m7/31: \u001b[0m\u001b[37mpublication\u001b[0m\n",
      "\u001b[34m8/31: \u001b[0m\u001b[37macknowledgement\u001b[0m\n",
      "\u001b[34m9/31: \u001b[0m\u001b[37maligned_reads_index\u001b[0m\n",
      "\u001b[34m10/31: \u001b[0m\u001b[37mmedical_history\u001b[0m\n",
      "\u001b[34m11/31: \u001b[0m\u001b[37mimaging_file_reference\u001b[0m\n",
      "\u001b[34m12/31: \u001b[0m\u001b[37mblood_pressure_test\u001b[0m\n",
      "\u001b[34m13/31: \u001b[0m\u001b[37msubmitted_unaligned_reads\u001b[0m\n",
      "\u001b[34m14/31: \u001b[0m\u001b[37mlab_result\u001b[0m\n",
      "\u001b[34m15/31: \u001b[0m\u001b[37mstudy\u001b[0m\n",
      "\u001b[34m16/31: \u001b[0m\u001b[37mmedication\u001b[0m\n",
      "\u001b[34m17/31: \u001b[0m\u001b[37maliquot\u001b[0m\n",
      "\u001b[34m18/31: \u001b[0m\u001b[37msimple_germline_variation\u001b[0m\n",
      "\u001b[34m19/31: \u001b[0m\u001b[37mgermline_mutation_calling_workflow\u001b[0m\n",
      "\u001b[34m20/31: \u001b[0m\u001b[37msubmitted_aligned_reads\u001b[0m\n",
      "\u001b[34m21/31: \u001b[0m\u001b[37malignment_cocleaning_workflow\u001b[0m\n",
      "\u001b[34m22/31: \u001b[0m\u001b[37melectrocardiogram_test\u001b[0m\n",
      "\u001b[34m23/31: \u001b[0m\u001b[37malignment_workflow\u001b[0m\n",
      "\u001b[34m24/31: \u001b[0m\u001b[37mread_group\u001b[0m\n",
      "\u001b[34m25/31: \u001b[0m\u001b[37mcore_metadata_collection\u001b[0m\n",
      "\u001b[34m26/31: \u001b[0m\u001b[37mcardiac_mri\u001b[0m\n",
      "\u001b[34m27/31: \u001b[0m\u001b[37mreference_file\u001b[0m\n",
      "\u001b[34m28/31: \u001b[0m\u001b[37msubject\u001b[0m\n",
      "\u001b[34m29/31: \u001b[0m\u001b[37mreference_file_index\u001b[0m\n",
      "\u001b[34m30/31: \u001b[0m\u001b[37maligned_reads\u001b[0m\n",
      "\u001b[34m31/31: \u001b[0m\u001b[37msample\u001b[0m\n"
     ]
    }
   ],
   "source": [
    "writer = PFBWriter(file_or_path=\"ontology_data.avro\")\n",
    "writer.__enter__()\n",
    "\n",
    "with PFBReader(\"ontology_schema.avro\") as reader:\n",
    "    writer.copy_schema(reader)\n",
    "\n",
    "writer.write(pfbJSON._from_json(writer.metadata, \"./bdc-sample\", \"DEV\", \"TEST\"))"
   ]
  }
 ],
 "metadata": {
  "kernelspec": {
   "display_name": "Python 3",
   "language": "python",
   "name": "python3"
  },
  "language_info": {
   "codemirror_mode": {
    "name": "ipython",
    "version": 3
   },
   "file_extension": ".py",
   "mimetype": "text/x-python",
   "name": "python",
   "nbconvert_exporter": "python",
   "pygments_lexer": "ipython3",
   "version": "3.8.13"
  }
 },
 "nbformat": 4,
 "nbformat_minor": 4
}
